{
 "cells": [
  {
   "cell_type": "raw",
   "id": "ca8ee190",
   "metadata": {
    "vscode": {
     "languageId": "raw"
    }
   },
   "source": [
    "---\n",
    "title: STATS 3DA3\n",
    "subtitle: Homework Assignment 4\n",
    "author: \"Hao Wu (400413785); Lexuan Li(400408535)\"\n",
    "date: 03/16/2025\n",
    "format: pdf\n",
    "header-includes:\n",
    "   - \\usepackage{amsmath}\n",
    "   - \\usepackage{bbm}\n",
    "   - \\usepackage{array}\n",
    "   - \\usepackage{multirow}\n",
    "   - \\usepackage{graphicx}\n",
    "   - \\usepackage{float}\n",
    "   - \\usepackage{apacite}\n",
    "   - \\usepackage{natbib}\n",
    "execute: \n",
    "  echo: true\n",
    "fontsize: 11pt\n",
    "geometry: margin = 1in\n",
    "linestretch: 1.5\n",
    "---"
   ]
  },
  {
   "cell_type": "code",
   "execution_count": 5,
   "id": "fab2befa",
   "metadata": {},
   "outputs": [],
   "source": [
    "import pandas as pd\n",
    "import numpy as np\n",
    "from sklearn.preprocessing import StandardScaler\n",
    "from sklearn.decomposition import PCA\n",
    "from sklearn.cluster import KMeans\n",
    "from sklearn.model_selection import train_test_split,GridSearchCV\n",
    "\n",
    "import matplotlib.pyplot as plt\n",
    "import seaborn as sns\n",
    "from sklearn.metrics import silhouette_samples, silhouette_score\n",
    "from sklearn.metrics.cluster import rand_score, adjusted_rand_score\n",
    "import matplotlib.cm as cm\n",
    "from sklearn.linear_model import LogisticRegression\n",
    "from sklearn.ensemble import RandomForestClassifier\n",
    "from sklearn.model_selection import cross_val_score\n",
    "from sklearn.metrics import accuracy_score, roc_auc_score, roc_curve, confusion_matrix\n",
    "from sklearn.feature_selection import SelectKBest, mutual_info_classif\n",
    "\n",
    "from sklearn.ensemble import GradientBoostingClassifier\n"
   ]
  },
  {
   "cell_type": "code",
   "execution_count": 6,
   "id": "c9c28a87",
   "metadata": {},
   "outputs": [
    {
     "name": "stdout",
     "output_type": "stream",
     "text": [
      "Dataset shape: (303, 14)\n",
      "Columns: ['age', 'sex', 'cp', 'trestbps', 'chol', 'fbs', 'restecg', 'thalach', 'exang', 'oldpeak', 'slope', 'ca', 'thal', 'num']\n"
     ]
    },
    {
     "data": {
      "text/html": [
       "<div>\n",
       "<style scoped>\n",
       "    .dataframe tbody tr th:only-of-type {\n",
       "        vertical-align: middle;\n",
       "    }\n",
       "\n",
       "    .dataframe tbody tr th {\n",
       "        vertical-align: top;\n",
       "    }\n",
       "\n",
       "    .dataframe thead th {\n",
       "        text-align: right;\n",
       "    }\n",
       "</style>\n",
       "<table border=\"1\" class=\"dataframe\">\n",
       "  <thead>\n",
       "    <tr style=\"text-align: right;\">\n",
       "      <th></th>\n",
       "      <th>age</th>\n",
       "      <th>sex</th>\n",
       "      <th>cp</th>\n",
       "      <th>trestbps</th>\n",
       "      <th>chol</th>\n",
       "      <th>fbs</th>\n",
       "      <th>restecg</th>\n",
       "      <th>thalach</th>\n",
       "      <th>exang</th>\n",
       "      <th>oldpeak</th>\n",
       "      <th>slope</th>\n",
       "      <th>ca</th>\n",
       "      <th>thal</th>\n",
       "      <th>num</th>\n",
       "    </tr>\n",
       "  </thead>\n",
       "  <tbody>\n",
       "    <tr>\n",
       "      <th>0</th>\n",
       "      <td>63</td>\n",
       "      <td>1</td>\n",
       "      <td>1</td>\n",
       "      <td>145</td>\n",
       "      <td>233</td>\n",
       "      <td>1</td>\n",
       "      <td>2</td>\n",
       "      <td>150</td>\n",
       "      <td>0</td>\n",
       "      <td>2.3</td>\n",
       "      <td>3</td>\n",
       "      <td>0.0</td>\n",
       "      <td>6.0</td>\n",
       "      <td>0</td>\n",
       "    </tr>\n",
       "    <tr>\n",
       "      <th>1</th>\n",
       "      <td>67</td>\n",
       "      <td>1</td>\n",
       "      <td>4</td>\n",
       "      <td>160</td>\n",
       "      <td>286</td>\n",
       "      <td>0</td>\n",
       "      <td>2</td>\n",
       "      <td>108</td>\n",
       "      <td>1</td>\n",
       "      <td>1.5</td>\n",
       "      <td>2</td>\n",
       "      <td>3.0</td>\n",
       "      <td>3.0</td>\n",
       "      <td>2</td>\n",
       "    </tr>\n",
       "    <tr>\n",
       "      <th>2</th>\n",
       "      <td>67</td>\n",
       "      <td>1</td>\n",
       "      <td>4</td>\n",
       "      <td>120</td>\n",
       "      <td>229</td>\n",
       "      <td>0</td>\n",
       "      <td>2</td>\n",
       "      <td>129</td>\n",
       "      <td>1</td>\n",
       "      <td>2.6</td>\n",
       "      <td>2</td>\n",
       "      <td>2.0</td>\n",
       "      <td>7.0</td>\n",
       "      <td>1</td>\n",
       "    </tr>\n",
       "    <tr>\n",
       "      <th>3</th>\n",
       "      <td>37</td>\n",
       "      <td>1</td>\n",
       "      <td>3</td>\n",
       "      <td>130</td>\n",
       "      <td>250</td>\n",
       "      <td>0</td>\n",
       "      <td>0</td>\n",
       "      <td>187</td>\n",
       "      <td>0</td>\n",
       "      <td>3.5</td>\n",
       "      <td>3</td>\n",
       "      <td>0.0</td>\n",
       "      <td>3.0</td>\n",
       "      <td>0</td>\n",
       "    </tr>\n",
       "    <tr>\n",
       "      <th>4</th>\n",
       "      <td>41</td>\n",
       "      <td>0</td>\n",
       "      <td>2</td>\n",
       "      <td>130</td>\n",
       "      <td>204</td>\n",
       "      <td>0</td>\n",
       "      <td>2</td>\n",
       "      <td>172</td>\n",
       "      <td>0</td>\n",
       "      <td>1.4</td>\n",
       "      <td>1</td>\n",
       "      <td>0.0</td>\n",
       "      <td>3.0</td>\n",
       "      <td>0</td>\n",
       "    </tr>\n",
       "  </tbody>\n",
       "</table>\n",
       "</div>"
      ],
      "text/plain": [
       "   age  sex  cp  trestbps  chol  fbs  restecg  thalach  exang  oldpeak  slope  \\\n",
       "0   63    1   1       145   233    1        2      150      0      2.3      3   \n",
       "1   67    1   4       160   286    0        2      108      1      1.5      2   \n",
       "2   67    1   4       120   229    0        2      129      1      2.6      2   \n",
       "3   37    1   3       130   250    0        0      187      0      3.5      3   \n",
       "4   41    0   2       130   204    0        2      172      0      1.4      1   \n",
       "\n",
       "    ca  thal  num  \n",
       "0  0.0   6.0    0  \n",
       "1  3.0   3.0    2  \n",
       "2  2.0   7.0    1  \n",
       "3  0.0   3.0    0  \n",
       "4  0.0   3.0    0  "
      ]
     },
     "execution_count": 6,
     "metadata": {},
     "output_type": "execute_result"
    }
   ],
   "source": [
    "# 1.\n",
    "url = \"https://raw.githubusercontent.com/PratheepaJ/datasets/refs/heads/master/ass6-dataset.csv\"\n",
    "data = pd.read_csv(url)\n",
    "\n",
    "print(\"Dataset shape:\", data.shape)\n",
    "print(\"Columns:\", data.columns.tolist())\n",
    "data.head()"
   ]
  },
  {
   "cell_type": "code",
   "execution_count": 7,
   "id": "d8109dcd",
   "metadata": {},
   "outputs": [
    {
     "name": "stdout",
     "output_type": "stream",
     "text": [
      "              age         sex          cp    trestbps        chol         fbs  \\\n",
      "count  303.000000  303.000000  303.000000  303.000000  303.000000  303.000000   \n",
      "mean    54.438944    0.679868    3.158416  131.689769  246.693069    0.148515   \n",
      "std      9.038662    0.467299    0.960126   17.599748   51.776918    0.356198   \n",
      "min     29.000000    0.000000    1.000000   94.000000  126.000000    0.000000   \n",
      "25%     48.000000    0.000000    3.000000  120.000000  211.000000    0.000000   \n",
      "50%     56.000000    1.000000    3.000000  130.000000  241.000000    0.000000   \n",
      "75%     61.000000    1.000000    4.000000  140.000000  275.000000    0.000000   \n",
      "max     77.000000    1.000000    4.000000  200.000000  564.000000    1.000000   \n",
      "\n",
      "          restecg     thalach       exang     oldpeak       slope          ca  \\\n",
      "count  303.000000  303.000000  303.000000  303.000000  303.000000  299.000000   \n",
      "mean     0.990099  149.607261    0.326733    1.039604    1.600660    0.672241   \n",
      "std      0.994971   22.875003    0.469794    1.161075    0.616226    0.937438   \n",
      "min      0.000000   71.000000    0.000000    0.000000    1.000000    0.000000   \n",
      "25%      0.000000  133.500000    0.000000    0.000000    1.000000    0.000000   \n",
      "50%      1.000000  153.000000    0.000000    0.800000    2.000000    0.000000   \n",
      "75%      2.000000  166.000000    1.000000    1.600000    2.000000    1.000000   \n",
      "max      2.000000  202.000000    1.000000    6.200000    3.000000    3.000000   \n",
      "\n",
      "             thal         num  \n",
      "count  301.000000  303.000000  \n",
      "mean     4.734219    0.937294  \n",
      "std      1.939706    1.228536  \n",
      "min      3.000000    0.000000  \n",
      "25%      3.000000    0.000000  \n",
      "50%      3.000000    0.000000  \n",
      "75%      7.000000    2.000000  \n",
      "max      7.000000    4.000000  \n"
     ]
    }
   ],
   "source": [
    "print(data.describe())"
   ]
  },
  {
   "cell_type": "code",
   "execution_count": 8,
   "id": "e62503b6",
   "metadata": {},
   "outputs": [
    {
     "name": "stdout",
     "output_type": "stream",
     "text": [
      "        age  trestbps      chol   thalach   oldpeak  num  sex_1  cp_2  cp_3  \\\n",
      "0  0.948726  0.757525 -0.264900  0.017197  1.087338    0      1     0     0   \n",
      "1  1.392002  1.611220  0.760415 -1.821905  0.397182    2      1     0     0   \n",
      "2  1.392002 -0.665300 -0.342283 -0.902354  1.346147    1      1     0     0   \n",
      "3 -1.932564 -0.096170  0.063974  1.637359  2.122573    0      1     0     1   \n",
      "4 -1.489288 -0.096170 -0.825922  0.980537  0.310912    0      0     1     0   \n",
      "\n",
      "   cp_4  ...  restecg_1  restecg_2  exang_1  slope_2  slope_3  thal_6.0  \\\n",
      "0     0  ...          0          1        0        0        1         1   \n",
      "1     1  ...          0          1        1        1        0         0   \n",
      "2     1  ...          0          1        1        1        0         0   \n",
      "3     0  ...          0          0        0        0        1         0   \n",
      "4     0  ...          0          1        0        0        0         0   \n",
      "\n",
      "   thal_7.0  ca_1.0  ca_2.0  ca_3.0  \n",
      "0         0       0       0       0  \n",
      "1         0       0       0       1  \n",
      "2         1       0       1       0  \n",
      "3         0       0       0       0  \n",
      "4         0       0       0       0  \n",
      "\n",
      "[5 rows x 21 columns]\n"
     ]
    }
   ],
   "source": [
    "# 2.\n",
    "numerical_cols = ['age', 'trestbps', 'chol', 'thalach', 'oldpeak']\n",
    "scaler = StandardScaler()\n",
    "\n",
    "# data_removed[numerical_cols] = scaler.fit_transform(data_removed[numerical_cols])\n",
    "data[numerical_cols] = scaler.fit_transform(data[numerical_cols])\n",
    "categorical_cols = ['sex','cp', 'fbs', 'restecg', 'exang','slope', 'thal','ca']\n",
    "\n",
    "# df = pd.get_dummies(data_removed, columns = categorical_cols, drop_first=True)\n",
    "df = pd.get_dummies(data, columns = categorical_cols, drop_first=True)\n",
    "df = df.astype({col: 'int' for col in df.select_dtypes(include='bool').columns})\n",
    "print(df.head())\n"
   ]
  },
  {
   "cell_type": "code",
   "execution_count": 9,
   "id": "c9c69691",
   "metadata": {},
   "outputs": [
    {
     "name": "stdout",
     "output_type": "stream",
     "text": [
      "(303, 21)\n",
      "\n",
      "Data types:\n",
      "age          float64\n",
      "trestbps     float64\n",
      "chol         float64\n",
      "thalach      float64\n",
      "oldpeak      float64\n",
      "num            int64\n",
      "sex_1          int64\n",
      "cp_2           int64\n",
      "cp_3           int64\n",
      "cp_4           int64\n",
      "fbs_1          int64\n",
      "restecg_1      int64\n",
      "restecg_2      int64\n",
      "exang_1        int64\n",
      "slope_2        int64\n",
      "slope_3        int64\n",
      "thal_6.0       int64\n",
      "thal_7.0       int64\n",
      "ca_1.0         int64\n",
      "ca_2.0         int64\n",
      "ca_3.0         int64\n",
      "dtype: object\n"
     ]
    }
   ],
   "source": [
    "#3\n",
    "print(df.shape)\n",
    "print(\"\\nData types:\")\n",
    "print(df.dtypes)\n"
   ]
  },
  {
   "cell_type": "code",
   "execution_count": 10,
   "id": "c0682c17",
   "metadata": {},
   "outputs": [
    {
     "name": "stdout",
     "output_type": "stream",
     "text": [
      "\n",
      "Summary statistics:\n",
      "                age      trestbps          chol       thalach       oldpeak  \\\n",
      "count  3.030000e+02  3.030000e+02  3.030000e+02  3.030000e+02  3.030000e+02   \n",
      "mean  -1.465641e-18  4.426236e-16  2.345026e-16 -1.172513e-16  2.345026e-17   \n",
      "std    1.001654e+00  1.001654e+00  1.001654e+00  1.001654e+00  1.001654e+00   \n",
      "min   -2.819115e+00 -2.145037e+00 -2.334877e+00 -3.442067e+00 -8.968617e-01   \n",
      "25%   -7.135564e-01 -6.652997e-01 -6.905030e-01 -7.053073e-01 -8.968617e-01   \n",
      "50%    1.729945e-01 -9.616980e-02 -1.101357e-01  1.485618e-01 -2.067053e-01   \n",
      "75%    7.270888e-01  4.729601e-01  5.476139e-01  7.178079e-01  4.834512e-01   \n",
      "max    2.500191e+00  3.887739e+00  6.138485e+00  2.294182e+00  4.451851e+00   \n",
      "\n",
      "              num       sex_1        cp_2        cp_3        cp_4  ...  \\\n",
      "count  303.000000  303.000000  303.000000  303.000000  303.000000  ...   \n",
      "mean     0.937294    0.679868    0.165017    0.283828    0.475248  ...   \n",
      "std      1.228536    0.467299    0.371809    0.451600    0.500213  ...   \n",
      "min      0.000000    0.000000    0.000000    0.000000    0.000000  ...   \n",
      "25%      0.000000    0.000000    0.000000    0.000000    0.000000  ...   \n",
      "50%      0.000000    1.000000    0.000000    0.000000    0.000000  ...   \n",
      "75%      2.000000    1.000000    0.000000    1.000000    1.000000  ...   \n",
      "max      4.000000    1.000000    1.000000    1.000000    1.000000  ...   \n",
      "\n",
      "        restecg_1   restecg_2     exang_1     slope_2     slope_3    thal_6.0  \\\n",
      "count  303.000000  303.000000  303.000000  303.000000  303.000000  303.000000   \n",
      "mean     0.013201    0.488449    0.326733    0.462046    0.069307    0.059406   \n",
      "std      0.114325    0.500693    0.469794    0.499382    0.254395    0.236774   \n",
      "min      0.000000    0.000000    0.000000    0.000000    0.000000    0.000000   \n",
      "25%      0.000000    0.000000    0.000000    0.000000    0.000000    0.000000   \n",
      "50%      0.000000    0.000000    0.000000    0.000000    0.000000    0.000000   \n",
      "75%      0.000000    1.000000    1.000000    1.000000    0.000000    0.000000   \n",
      "max      1.000000    1.000000    1.000000    1.000000    1.000000    1.000000   \n",
      "\n",
      "         thal_7.0      ca_1.0      ca_2.0      ca_3.0  \n",
      "count  303.000000  303.000000  303.000000  303.000000  \n",
      "mean     0.386139    0.214521    0.125413    0.066007  \n",
      "std      0.487668    0.411169    0.331734    0.248704  \n",
      "min      0.000000    0.000000    0.000000    0.000000  \n",
      "25%      0.000000    0.000000    0.000000    0.000000  \n",
      "50%      0.000000    0.000000    0.000000    0.000000  \n",
      "75%      1.000000    0.000000    0.000000    0.000000  \n",
      "max      1.000000    1.000000    1.000000    1.000000  \n",
      "\n",
      "[8 rows x 21 columns]\n"
     ]
    }
   ],
   "source": [
    "print(\"\\nSummary statistics:\")\n",
    "print(df.describe())"
   ]
  },
  {
   "cell_type": "code",
   "execution_count": 11,
   "id": "a33792ed",
   "metadata": {},
   "outputs": [
    {
     "data": {
      "image/png": "[encoded data removed]",
      "text/plain": [
       "<Figure size 640x480 with 1 Axes>"
      ]
     },
     "metadata": {},
     "output_type": "display_data"
    },
    {
     "name": "stdout",
     "output_type": "stream",
     "text": [
      "num\n",
      "0    164\n",
      "1     55\n",
      "2     36\n",
      "3     35\n",
      "4     13\n",
      "Name: count, dtype: int64\n"
     ]
    }
   ],
   "source": [
    "sns.countplot(x=\"num\", data=df)\n",
    "plt.show()\n",
    "print(df['num'].value_counts())"
   ]
  }
 ],
 "metadata": {
  "kernelspec": {
   "display_name": "Python 3",
   "language": "python",
   "name": "python3"
  },
  "language_info": {
   "codemirror_mode": {
    "name": "ipython",
    "version": 3
   },
   "file_extension": ".py",
   "mimetype": "text/x-python",
   "name": "python",
   "nbconvert_exporter": "python",
   "pygments_lexer": "ipython3",
   "version": "3.12.1"
  }
 },
 "nbformat": 4,
 "nbformat_minor": 5
}
